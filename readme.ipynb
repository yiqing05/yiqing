{
 "cells": [
  {
   "cell_type": "markdown",
   "metadata": {},
   "source": [
    "# 1.数据集的构建"
   ]
  },
  {
   "cell_type": "markdown",
   "metadata": {},
   "source": [
    "如果使用我的数据集 ：\n",
    "\n",
    "images https://drive.google.com/drive/folders/1y8vJjChXGWeSn3wq-VGPZlfLN3z2Pxsy?usp=sharing\n",
    "\n",
    "Annotations：https://drive.google.com/drive/folders/1UoGZ4f8ac9nOoW7JUEIoySf9DZb0ggBJ?usp=sharing\n",
    "\n",
    "\n",
    "\n",
    "将其相关文件夹保存在data目录下后进行训练，我已经保存了所有的训练集及数据集，如果是使用自己的数据集请按说明保存。\n",
    "\n",
    "整个文件中，在data路径下新建images，ImagesSets， Annotations和labels文件夹，images文件夹下放入图像文件，Annotations文件夹下放入xml文件，运行下列程序生成训练集和测试集："
   ]
  },
  {
   "cell_type": "code",
   "execution_count": null,
   "metadata": {},
   "outputs": [],
   "source": [
    "\n",
    "import os\n",
    "import random\n",
    " \n",
    "trainval_percent = 0.1\n",
    "train_percent = 0.9\n",
    "xmlfilepath = 'data/Annotations'\n",
    "txtsavepath = 'data/images'\n",
    "total_xml = os.listdir(xmlfilepath)\n",
    " \n",
    "num = len(total_xml)\n",
    "list = range(num)\n",
    "tv = int(num * trainval_percent)\n",
    "tr = int(tv * train_percent)\n",
    "trainval = random.sample(list, tv)\n",
    "train = random.sample(trainval, tr)\n",
    " \n",
    "ftrainval = open('data/ImageSets/trainval.txt', 'w')\n",
    "ftest = open('data/ImageSets/test.txt', 'w')\n",
    "ftrain = open('data/ImageSets/train.txt', 'w')\n",
    "fval = open('data/ImageSets/val.txt', 'w')\n",
    "\n",
    "a=0\n",
    "for i in list:\n",
    "    a+=1\n",
    "    name = total_xml[i][:-4] + '\\n'\n",
    "    if i in trainval:\n",
    "        ftrainval.write(name)\n",
    "        if i in train:\n",
    "            ftest.write(name)\n",
    "        else:\n",
    "            fval.write(name)\n",
    "    else:\n",
    "        ftrain.write(name)\n",
    "        \n",
    "# print(a)\n",
    "ftrainval.close()\n",
    "ftrain.close()\n",
    "fval.close()\n",
    "ftest.close()"
   ]
  },
  {
   "cell_type": "markdown",
   "metadata": {},
   "source": [
    "生成txt文件的labels并将其保存在labels文件夹中，并在yolov3根目录下生成训练集路径及测试集路径, 由于我最开始已经保存了训练集及测试集，如果需要训练自己的数据集请先删除我先前保存的train.txt以及test.txt文y件"
   ]
  },
  {
   "cell_type": "code",
   "execution_count": null,
   "metadata": {},
   "outputs": [],
   "source": [
    "import xml.etree.ElementTree as ET\n",
    "import pickle\n",
    "import os\n",
    "from os import listdir, getcwd\n",
    "from os.path import join\n",
    " \n",
    "sets = ['train', 'test','val']\n",
    " \n",
    "# since we only have one class, we can use list\n",
    "classes = [\"light\"] \n",
    " \n",
    "def convert(size, box):\n",
    "    dw = 1. / size[0]\n",
    "    dh = 1. / size[1]\n",
    "    x = (box[0] + box[1]) / 2.0\n",
    "    y = (box[2] + box[3]) / 2.0\n",
    "    w = box[1] - box[0]\n",
    "    h = box[3] - box[2]\n",
    "    x = x * dw\n",
    "    w = w * dw\n",
    "    y = y * dh\n",
    "    h = h * dh\n",
    "    return (x, y, w, h)\n",
    "\n",
    "def convert_annotation(image_id):\n",
    "    in_file = open('data/Annotations/%s.xml' % (image_id))\n",
    "    out_file = open('data/labels/%s.txt' % (image_id), 'w')\n",
    "    tree = ET.parse(in_file)\n",
    "    root = tree.getroot()\n",
    "    size = root.find('size')\n",
    "    w = int(size.find('width').text)\n",
    "    h = int(size.find('height').text)\n",
    " \n",
    "    for obj in root.iter('object'):\n",
    "        difficult = obj.find('difficult').text\n",
    "        cls = obj.find('name').text\n",
    "        if cls not in classes or int(difficult) == 1:\n",
    "            continue\n",
    "        cls_id = classes.index(cls)\n",
    "        xmlbox = obj.find('bndbox')\n",
    "        b = (float(xmlbox.find('xmin').text), float(xmlbox.find('xmax').text), float(xmlbox.find('ymin').text),\n",
    "             float(xmlbox.find('ymax').text))\n",
    "        bb = convert((w, h), b)\n",
    "        out_file.write(str(cls_id) + \" \" + \" \".join([str(a) for a in bb]) + '\\n')\n",
    " \n",
    " \n",
    "wd = getcwd()\n",
    "print(wd)\n",
    "for image_set in sets:\n",
    "    if not os.path.exists('data/labels/'):\n",
    "        os.makedirs('data/labels/')\n",
    "    image_ids = open('data/ImageSets/%s.txt' % (image_set)).read().strip().split()\n",
    "    list_file = open('data/%s.txt' % (image_set), 'w')\n",
    "    for image_id in image_ids:\n",
    "        list_file.write('data/images/%s.jpg\\n' % (image_id))\n",
    "        convert_annotation(image_id)\n",
    "    list_file.close()"
   ]
  },
  {
   "cell_type": "markdown",
   "metadata": {},
   "source": [
    "# 2.模型的训练"
   ]
  },
  {
   "cell_type": "markdown",
   "metadata": {},
   "source": [
    "由于本人默认是使用yolov3-tiny进行训练，class的数量默认为1，图像大小默认为128*128，如果训练图像尺寸及相关数据不同的话请注意修改。\n",
    "\n",
    "\n",
    "训练结果保存在weight文件夹下。\n",
    "\n",
    "\n",
    "使用的weight为从darknet进行train得到的yolov3-tiny.conv.15"
   ]
  },
  {
   "cell_type": "code",
   "execution_count": null,
   "metadata": {},
   "outputs": [],
   "source": [
    "#this model can use both cpu and gpu, but highly recommed gpu enviroment, since it can be much much faster!\n",
    "#check device, if device is GPU the result would be cuda\n",
    "import thorch\n",
    "import numpy as np\n",
    "device = 'cuda' if torch.cuda.is_available else 'cpu'"
   ]
  },
  {
   "cell_type": "code",
   "execution_count": null,
   "metadata": {},
   "outputs": [],
   "source": [
    "!python3 train.py --epochs 300 --weights weights/last.pt --batch-size 16 --img-size 128"
   ]
  },
  {
   "cell_type": "markdown",
   "metadata": {},
   "source": [
    "# 3.结果测试"
   ]
  },
  {
   "cell_type": "markdown",
   "metadata": {},
   "source": [
    "将需要测试的图片保存在samples文件夹中，输出的图像结果以及txt文件将保存在根目录的output文件夹下。\n",
    "\n",
    "\n",
    "txt格式为：class xmin xmax ymin ymax"
   ]
  },
  {
   "cell_type": "code",
   "execution_count": null,
   "metadata": {},
   "outputs": [],
   "source": [
    "!python detect1.py --data data/coco.data --cfg cfg/yolov3-tiny.cfg --weights weights/best.pt  --img-size 128"
   ]
  },
  {
   "cell_type": "markdown",
   "metadata": {},
   "source": [
    "可以利用Image 函数查看output里的图片结果"
   ]
  },
  {
   "cell_type": "code",
   "execution_count": null,
   "metadata": {},
   "outputs": [],
   "source": [
    "from IPython.display import Image, clear_output \n",
    "Image(filename='output/821.jpg', width=300)"
   ]
  }
 ],
 "metadata": {
  "kernelspec": {
   "display_name": "Python 3",
   "language": "python",
   "name": "python3"
  },
  "language_info": {
   "codemirror_mode": {
    "name": "ipython",
    "version": 3
   },
   "file_extension": ".py",
   "mimetype": "text/x-python",
   "name": "python",
   "nbconvert_exporter": "python",
   "pygments_lexer": "ipython3",
   "version": "3.7.3"
  }
 },
 "nbformat": 4,
 "nbformat_minor": 2
}
